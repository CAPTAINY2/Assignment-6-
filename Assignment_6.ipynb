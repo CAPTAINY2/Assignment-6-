{
  "nbformat": 4,
  "nbformat_minor": 0,
  "metadata": {
    "colab": {
      "provenance": [],
      "authorship_tag": "ABX9TyNUHhYwh9n9We72pTqwtyBs",
      "include_colab_link": true
    },
    "kernelspec": {
      "name": "python3",
      "display_name": "Python 3"
    },
    "language_info": {
      "name": "python"
    }
  },
  "cells": [
    {
      "cell_type": "markdown",
      "metadata": {
        "id": "view-in-github",
        "colab_type": "text"
      },
      "source": [
        "<a href=\"https://colab.research.google.com/github/CAPTAINY2/Assignment-6-/blob/main/Assignment_6.ipynb\" target=\"_parent\"><img src=\"https://colab.research.google.com/assets/colab-badge.svg\" alt=\"Open In Colab\"/></a>"
      ]
    },
    {
      "cell_type": "markdown",
      "source": [
        "### QUESTION-1"
      ],
      "metadata": {
        "id": "slnJogv9V__K"
      }
    },
    {
      "cell_type": "code",
      "execution_count": 2,
      "metadata": {
        "colab": {
          "base_uri": "https://localhost:8080/"
        },
        "id": "VBHT1RaYH4ml",
        "outputId": "f1fcbf20-3948-49e1-f85a-8cc05f8a1f0a"
      },
      "outputs": [
        {
          "output_type": "stream",
          "name": "stdout",
          "text": [
            "Output: [0, 4, 1, 3, 2]\n"
          ]
        }
      ],
      "source": [
        "s = \"IDID\"\n",
        "\n",
        "def Permutation(s):\n",
        "    perm = []\n",
        "    n = len(s)\n",
        "    low, high = 0, n\n",
        "    \n",
        "    for ch in s:\n",
        "        if ch == 'I':\n",
        "            perm.append(low)\n",
        "            low += 1\n",
        "        elif ch == 'D':\n",
        "            perm.append(high)\n",
        "            high -= 1\n",
        "    \n",
        "    perm.append(low)\n",
        "    return perm\n",
        "\n",
        "print(f\"Output: {Permutation(s)}\")\n"
      ]
    },
    {
      "cell_type": "markdown",
      "source": [
        "### QUESTION-2"
      ],
      "metadata": {
        "id": "juYC3ljqWFJw"
      }
    },
    {
      "cell_type": "code",
      "source": [
        "matrix =  [[1,3,5,7],[10,11,16,20],[23,30,34,60]]\n",
        "target = 3\n",
        "\n",
        "def findMatrix(matrix, target):\n",
        "    if not matrix or not matrix[0]:\n",
        "        return False\n",
        "    \n",
        "    m, n = len(matrix), len(matrix[0])\n",
        "    left, right = 0, m * n - 1\n",
        "    \n",
        "    while left <= right:\n",
        "        mid = (left + right) // 2\n",
        "        row = mid // n\n",
        "        col = mid % n\n",
        "        if matrix[row][col] == target:\n",
        "            return True\n",
        "        elif matrix[row][col] < target:\n",
        "            left = mid + 1\n",
        "        else:\n",
        "            right = mid - 1\n",
        "    \n",
        "    return False\n",
        "\n",
        "print(f\"Output: {findMatrix(matrix, target)}\")\n"
      ],
      "metadata": {
        "colab": {
          "base_uri": "https://localhost:8080/"
        },
        "id": "l52fKplXJ6qm",
        "outputId": "4648bed7-316a-46ed-8ecc-14ed05414f3f"
      },
      "execution_count": 3,
      "outputs": [
        {
          "output_type": "stream",
          "name": "stdout",
          "text": [
            "Output: True\n"
          ]
        }
      ]
    },
    {
      "cell_type": "markdown",
      "source": [
        "### QUESTION-3"
      ],
      "metadata": {
        "id": "AOpu8zWXWG_r"
      }
    },
    {
      "cell_type": "code",
      "source": [
        "arr = [2, 1]\n",
        "\n",
        "def MountainArray(arr):\n",
        "    if len(arr) < 3:\n",
        "        return False\n",
        "\n",
        "    i = 0\n",
        "    while i + 1 < len(arr) and arr[i] < arr[i + 1]:\n",
        "        i += 1\n",
        "\n",
        "    if i == 0 or i == len(arr) - 1:\n",
        "        return False\n",
        "\n",
        "    while i + 1 < len(arr) and arr[i] > arr[i + 1]:\n",
        "        i += 1\n",
        "\n",
        "    return i == len(arr) - 1\n",
        "\n",
        "print(f\"Output: {MountainArray(arr)}\")\n"
      ],
      "metadata": {
        "colab": {
          "base_uri": "https://localhost:8080/"
        },
        "id": "oRvqHmYWLFer",
        "outputId": "b4f29f4f-b231-4d1c-e549-424a7a2eb462"
      },
      "execution_count": 4,
      "outputs": [
        {
          "output_type": "stream",
          "name": "stdout",
          "text": [
            "Output: False\n"
          ]
        }
      ]
    },
    {
      "cell_type": "markdown",
      "source": [
        "### QUESTION-4"
      ],
      "metadata": {
        "id": "3Zf9NjdFWIsz"
      }
    },
    {
      "cell_type": "code",
      "source": [
        "nums = [0, 1]\n",
        "\n",
        "def length(nums):\n",
        "    max_length = 0\n",
        "    count = 0\n",
        "    count_1 = {0: -1}\n",
        "\n",
        "    for i in range(len(nums)):\n",
        "        if nums[i] == 0:\n",
        "            count -= 1\n",
        "        else:\n",
        "            count += 1\n",
        "\n",
        "        if count in count_1:\n",
        "            max_length = max(max_length, i - count_1[count])\n",
        "        else:\n",
        "            count_1[count] = i\n",
        "\n",
        "    return max_length\n",
        "\n",
        "print(f\"Output: {length(nums)}\")\n"
      ],
      "metadata": {
        "colab": {
          "base_uri": "https://localhost:8080/"
        },
        "id": "222W7pARLuuS",
        "outputId": "bcaae29b-9a2d-4240-e856-709bf6e1ef28"
      },
      "execution_count": 9,
      "outputs": [
        {
          "output_type": "stream",
          "name": "stdout",
          "text": [
            "Output: 2\n"
          ]
        }
      ]
    },
    {
      "cell_type": "markdown",
      "source": [
        "### QUESTION-5"
      ],
      "metadata": {
        "id": "3XxFy8MDWKeO"
      }
    },
    {
      "cell_type": "code",
      "source": [
        "nums1 = [5, 3, 4, 2]\n",
        "nums2 = [4, 2, 2, 5]\n",
        "\n",
        "def ProductSum(nums1, nums2):\n",
        "    nums1.sort()\n",
        "    nums2.sort(reverse=True)\n",
        "    min_product_sum = 0\n",
        "\n",
        "    for i in range(len(nums1)):\n",
        "        min_product_sum += nums1[i] * nums2[i]\n",
        "\n",
        "    return min_product_sum\n",
        "\n",
        "print(f\"Output: {ProductSum(nums1, nums2)}\")"
      ],
      "metadata": {
        "colab": {
          "base_uri": "https://localhost:8080/"
        },
        "id": "hkMSAwOrOKLT",
        "outputId": "d2cc4543-fb20-46e6-cd0a-f8118cb4ef25"
      },
      "execution_count": 10,
      "outputs": [
        {
          "output_type": "stream",
          "name": "stdout",
          "text": [
            "Output: 40\n"
          ]
        }
      ]
    },
    {
      "cell_type": "markdown",
      "source": [
        "### QUESTION-6"
      ],
      "metadata": {
        "id": "yitK5CGmWMGo"
      }
    },
    {
      "cell_type": "code",
      "source": [
        "changed = [1, 3, 4, 2, 6, 8]\n",
        "\n",
        "def original_array(changed):\n",
        "    if len(changed) %2 != 0:\n",
        "        return [] \n",
        "    \n",
        "    counter = {}\n",
        "    for i in changed:\n",
        "        if i not in counter:\n",
        "            counter[i] = 0\n",
        "        counter[i] += 1\n",
        "    \n",
        "    original = []\n",
        "    for i in sorted(changed):\n",
        "\n",
        "        if i in counter and counter[i]>0:\n",
        "            if i * 2 not in counter or counter[i * 2] <= 0:\n",
        "                return []  \n",
        "            original.append(i)\n",
        "            counter[i] -= 1\n",
        "            counter[i * 2] -= 1\n",
        "    \n",
        "    return original\n",
        "\n",
        "print(f\"Output: {original_array(changed)}\")\n"
      ],
      "metadata": {
        "colab": {
          "base_uri": "https://localhost:8080/"
        },
        "id": "0vQUynGaS297",
        "outputId": "c5e6b0da-aa9d-4770-e0d0-40cc3769b95f"
      },
      "execution_count": 13,
      "outputs": [
        {
          "output_type": "stream",
          "name": "stdout",
          "text": [
            "Output: [1, 3, 4]\n"
          ]
        }
      ]
    },
    {
      "cell_type": "markdown",
      "source": [
        "### QUESTION-7"
      ],
      "metadata": {
        "id": "lxC8C1IaWNtQ"
      }
    },
    {
      "cell_type": "code",
      "source": [
        "n = 3\n",
        "\n",
        "def generate_matrix(n):\n",
        "    matrix = [[0] * n for _ in range(n)]\n",
        "    left, right, top, bottom = 0, n-1, 0, n-1\n",
        "    num = 1\n",
        "\n",
        "    while num <= n * n:\n",
        "        for i in range(left, right+1):\n",
        "            matrix[top][i] = num\n",
        "            num += 1\n",
        "        top += 1\n",
        "\n",
        "        for i in range(top, bottom+1):\n",
        "            matrix[i][right] = num\n",
        "            num += 1\n",
        "        right -= 1\n",
        "\n",
        "        for i in range(right, left-1, -1):\n",
        "            matrix[bottom][i] = num\n",
        "            num += 1\n",
        "        bottom -= 1\n",
        "\n",
        "        for i in range(bottom, top-1, -1):\n",
        "            matrix[i][left] = num\n",
        "            num += 1\n",
        "        left += 1\n",
        "\n",
        "    return matrix\n",
        "\n",
        "print(f\"Output: {generate_matrix(n)}\")\n"
      ],
      "metadata": {
        "colab": {
          "base_uri": "https://localhost:8080/"
        },
        "id": "0m3DWp2tTs9Y",
        "outputId": "aacd36e4-493f-4d7d-9e85-034021626d72"
      },
      "execution_count": 14,
      "outputs": [
        {
          "output_type": "stream",
          "name": "stdout",
          "text": [
            "Output: [[1, 2, 3], [8, 9, 4], [7, 6, 5]]\n"
          ]
        }
      ]
    },
    {
      "cell_type": "markdown",
      "source": [
        "### QUESTION-8"
      ],
      "metadata": {
        "id": "YTsZYNNiWP2R"
      }
    },
    {
      "cell_type": "code",
      "source": [
        "mat1 = [[1, 0, 0], [-1, 0, 3]]\n",
        "mat2 = [[7, 0, 0], [0, 0, 0], [0, 0, 1]]\n",
        "\n",
        "def multiply(mat1, mat2):\n",
        "    m = len(mat1)\n",
        "    n = len(mat2[0])\n",
        "    result = [[0] * n for _ in range(m)]\n",
        "\n",
        "    for i in range(m):\n",
        "        for j in range(n):\n",
        "            for k in range(len(mat1[0])):\n",
        "                result[i][j] += mat1[i][k] * mat2[k][j]\n",
        "\n",
        "    return result\n",
        "\n",
        "print(f\"Output: {multiply(mat1, mat2)}\")\n"
      ],
      "metadata": {
        "colab": {
          "base_uri": "https://localhost:8080/"
        },
        "id": "Kx2dOf-9VC2u",
        "outputId": "5437ca13-a20a-47e2-e9fc-63182b23ccf4"
      },
      "execution_count": 15,
      "outputs": [
        {
          "output_type": "stream",
          "name": "stdout",
          "text": [
            "Output: [[7, 0, 0], [-7, 0, 3]]\n"
          ]
        }
      ]
    },
    {
      "cell_type": "code",
      "source": [],
      "metadata": {
        "id": "LVtRSe-EVrtk"
      },
      "execution_count": null,
      "outputs": []
    }
  ]
}